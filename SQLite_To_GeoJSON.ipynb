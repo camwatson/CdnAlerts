{
  "cells": [
    {
      "metadata": {
        "trusted": true
      },
      "cell_type": "code",
      "source": [
        "%matplotlib inline"
      ],
      "execution_count": null,
      "outputs": []
    },
    {
      "metadata": {
        "trusted": true
      },
      "cell_type": "code",
      "source": [
        "#Required to fetch envrio variables \n",
        "import os\n",
        "\n",
        "import pandas as pd\n",
        "import geopandas\n",
        "import sqlite3\n",
        "from shapely import wkt\n",
        "import folium\n",
        "from mapboxgl.viz import *\n",
        "from mapboxgl.utils import *\n",
        "\n",
        "\n",
        "# Must be a public token, starting with `pk`\n",
        "token = os.environ['Mapbox_Public_Token']"
      ],
      "execution_count": null,
      "outputs": []
    },
    {
      "cell_type": "code",
      "execution_count": null,
      "metadata": {},
      "outputs": [],
      "source": [
        "#Write out all current areas to a geojson file.\n",
        "conn = sqlite3.connect('cap_data.db')\n",
        "query = \"select * from cap_poly\"\n",
        "df = pd.read_sql_query(query,conn)\n",
        "# Convert WKT data in polygon column to shapely format for gdf\n",
        "df['polygon'] = df['polygon'].apply(wkt.loads)\n",
        "# Create GeoDataFrame\n",
        "gdf = geopandas.GeoDataFrame(df, geometry='polygon')\n",
        "gdf.head()\n",
        "gdf.to_file(\"cdn_polys.geojson\", driver='GeoJSON')\n"
      ]
    },
    {
      "cell_type": "code",
      "execution_count": null,
      "metadata": {
        "tags": []
      },
      "outputs": [],
      "source": [
        "conn = sqlite3.connect('cap_data.db')\n",
        "query = \"select cap_alerts.refID, cap_info.infoID, cap_info.headline, cap_info.responseType, cap_alerts.msgType, cap_info.expires,cap_info.event,cap_info.category,cap_info.certainty,cap_info.severity,cap_poly.areaDesc, cap_info.description, cap_poly.polygon from cap_alerts, cap_info, cap_area, cap_poly where cap_alerts.refID = cap_info.refID and cap_info.refid = cap_area.refID and cap_info.infoid = cap_area.infoID and cap_area.areaDesc = cap_poly.areaDesc and cap_alerts.status = 'Actual' and cap_alerts.refID = 'cap-pac@canada.ca,urn:oid:2.49.0.1.124.0774176025.2020,2020-07-14T06:42:44-00:00'\"\n",
        "df1 = pd.read_sql_query(query,conn)\n",
        "# Convert WKT data in polygon column to shapely format for gdf\n",
        "df1['polygon'] = df1['polygon'].apply(wkt.loads)\n",
        "# Create GeoDataFrame\n",
        "gdf1 = geopandas.GeoDataFrame(df1, geometry='polygon')\n",
        "# Load geojson file with areas to intersect\n",
        "fname = \"map.geojson\"\n",
        "gdf2 = geopandas.read_file(fname)\n",
        "# Intersect dataframe results\n",
        "res_intersection = geopandas.overlay(gdf1, gdf2, how='intersection')\n",
        "if res_intersection.empty is False:\n",
        "    # Dissolve data based on ID and info_count \n",
        "    textdf = res_intersection.dissolve(by=['refID', 'infoID'], aggfunc='first')\n",
        "    for index, row in textdf.iterrows():\n",
        "        print(row['Name'] + \": \" + row['headline'] + \"\\nResponse: \" +  row['responseType']  + \"\\nType: \" + row['msgType'] + \"\\nDescription: \" + row['description'])\n"
      ]
    },
    {
      "cell_type": "code",
      "execution_count": null,
      "metadata": {},
      "outputs": [],
      "source": []
    },
    {
      "metadata": {
        "trusted": true
      },
      "cell_type": "code",
      "source": [
        "conn = sqlite3.connect('cap_data.db')\n",
        "#query = \"select * from cap_alerts\"\n",
        "#query = \"select cap_alerts.refID, cap_alerts.identifier, cap_alerts.sender, cap_alerts.sent, cap_alerts.status, cap_alerts.msgType, cap_alerts.rev_refid, cap_info.infoID, cap_info.expires,cap_info.event,cap_info.category,cap_info.certainty,cap_info.severity,cap_info.headline,cap_info.description,cap_info.instruction,cap_poly.polygon from cap_alerts, cap_info, cap_area, cap_poly where cap_alerts.refID = cap_info.refID and cap_info.refid = cap_area.refID and cap_info.infoid = cap_area.infoID and cap_area.areaDesc = cap_poly.areaDesc and datetime(cap_info.expires) >= datetime('now') ORDER BY cap_info.expires ASC\"\n",
        "query = \"\"\"select cap_alerts.refID,\n",
        "\tcap_alerts.identifier, \n",
        "\tcap_alerts.sender, \n",
        "\tcap_alerts.sent, \n",
        "\tcap_alerts.status,\n",
        "\tcap_alerts.msgType,\n",
        "\tcap_info.infoID,    \n",
        "\tcap_info.expires,\n",
        "\tcap_info.event,\n",
        "\tcap_info.category,\n",
        "\tcap_info.responseType,\n",
        "\tcap_info.certainty,\n",
        "\tcap_info.severity,\n",
        "\tcap_info.urgency,\n",
        "\tcap_info.headline,\n",
        "\tcap_info.description,\n",
        "\tcap_info.instruction,\n",
        "\tcap_poly.polygon,\n",
        "\tcap_alerts.rev_refID\n",
        "\tfrom cap_alerts, cap_info, cap_area, cap_poly \n",
        "\twhere cap_alerts.refID = cap_info.refID \n",
        "\tand cap_info.refid = cap_area.refID \n",
        "\tand cap_info.infoid = cap_area.infoID \n",
        "\tand cap_area.areaDesc = cap_poly.areaDesc\n",
        "\tand datetime(cap_info.expires) >= datetime('now')\n",
        "\tand rev_refID is NULL\n",
        "\tORDER BY cap_alerts.sent DESC\n",
        "\"\"\"\n",
        "df = pd.read_sql_query(query,conn)\n"
      ],
      "execution_count": null,
      "outputs": []
    },
    {
      "metadata": {
        "trusted": true
      },
      "cell_type": "code",
      "source": [
        "df.head()"
      ],
      "execution_count": null,
      "outputs": []
    },
    {
      "metadata": {
        "trusted": true
      },
      "cell_type": "code",
      "source": [
        "# Convert WKT data in polygon column to shapely format for gdf\n",
        "df['polygon'] = df['polygon'].apply(wkt.loads)\n",
        "#df.head()"
      ],
      "execution_count": null,
      "outputs": []
    },
    {
      "metadata": {
        "trusted": true
      },
      "cell_type": "code",
      "source": [
        "# Create GeoDataFrame\n",
        "gdf = geopandas.GeoDataFrame(df, geometry='polygon')"
      ],
      "execution_count": null,
      "outputs": []
    },
    {
      "metadata": {
        "trusted": true
      },
      "cell_type": "code",
      "source": [
        "# Dissolve data based on ID and info_count \n",
        "gdf = gdf.dissolve(by=['identifier', 'infoID'], aggfunc='first')"
      ],
      "execution_count": null,
      "outputs": []
    },
    {
      "metadata": {
        "trusted": true
      },
      "cell_type": "code",
      "source": [
        "import matplotlib.pyplot as plt\n",
        "\n",
        "world = geopandas.read_file(geopandas.datasets.get_path('naturalearth_lowres'))\n",
        "world = geopandas.read_file(geopandas.datasets.get_path('naturalearth_lowres'))\n",
        "ax = world[world.name == 'Canada'].plot(\n",
        "    color='white', edgecolor='black')\n",
        "\n",
        "gdf.plot(ax=ax, color='red')\n",
        "gdf.plot(color='red')\n",
        "plt.show()"
      ],
      "execution_count": null,
      "outputs": []
    },
    {
      "metadata": {
        "trusted": true
      },
      "cell_type": "code",
      "source": [
        "gdf.count()"
      ],
      "execution_count": null,
      "outputs": []
    },
    {
      "metadata": {
        "trusted": true
      },
      "cell_type": "code",
      "source": [
        "gdf.drop('sender', axis=1)\n",
        "gdf.drop('status', axis=1)\n",
        "gdf.drop('msgType', axis=1)\n",
        "gdf.drop('event', axis=1)\n",
        "gdf.drop('category', axis=1)\n",
        "gdf.drop('rev_refID', axis=1)\n",
        "\n",
        "# Write out to GeoJson file.\n",
        "gdf.to_file(\"cdn_alerts.geojson\", driver='GeoJSON')\n",
        "gdf.head()"
      ],
      "execution_count": null,
      "outputs": []
    },
    {
      "metadata": {
        "trusted": true
      },
      "cell_type": "code",
      "source": [
        "#gdf.to_file(\"ShapeFiles/cdn_alerts.shp\", driver='ESRI Shapefile')"
      ],
      "execution_count": null,
      "outputs": []
    },
    {
      "metadata": {
        "trusted": true
      },
      "cell_type": "code",
      "source": [
        "#import fiona\n",
        "#fiona.supported_drivers"
      ],
      "execution_count": null,
      "outputs": []
    },
    {
      "metadata": {
        "trusted": true
      },
      "cell_type": "code",
      "source": [
        "match_color_stops = [['AllClear', 'rgb(46,204,113)'],\n",
        "                     ['Monitor', 'rgb(231,76,60)']]\n",
        "# https://raw.githubusercontent.com/camwatson/SpatialDataSets/master/Canada_Alerts_English.geojson\"\n",
        "viz = ChoroplethViz(\"./cdn_alerts.geojson\", \n",
        "                    access_token=token,\n",
        "                    color_property='responseType', \n",
        "                    color_stops=match_color_stops, \n",
        "                    color_function_type='match', \n",
        "                    color_default='rgba(52,73,94,0.5)', \n",
        "                    opacity=0.8, \n",
        "                    center=(-96, 55), \n",
        "                    zoom=3, \n",
        "                    below_layer='waterway-label')\n",
        "viz.show()\n",
        "\n"
      ],
      "execution_count": null,
      "outputs": []
    },
    {
      "metadata": {
        "trusted": true
      },
      "cell_type": "code",
      "source": [
        "m = folium.Map(\n",
        "    location=[55, -130],\n",
        "    zoom_start=2  # Limited levels of zoom for free Mapbox tiles.\n",
        ")\n",
        "\n",
        "folium.GeoJson(\n",
        "    gdf.to_json(),\n",
        "    name='geojson',\n",
        ").add_to(m)\n"
      ],
      "execution_count": null,
      "outputs": []
    },
    {
      "metadata": {
        "trusted": true
      },
      "cell_type": "code",
      "source": [
        "m"
      ],
      "execution_count": null,
      "outputs": []
    },
    {
      "metadata": {
        "trusted": true
      },
      "cell_type": "code",
      "source": [],
      "execution_count": null,
      "outputs": []
    },
    {
      "metadata": {
        "trusted": true
      },
      "cell_type": "code",
      "source": [],
      "execution_count": null,
      "outputs": []
    }
  ],
  "metadata": {
    "kernelspec": {
      "name": "python_defaultSpec_1595357738044",
      "display_name": "Python 3.7.7 64-bit ('geo_env': conda)",
      "language": "python"
    },
    "language_info": {
      "mimetype": "text/x-python",
      "nbconvert_exporter": "python",
      "name": "python",
      "pygments_lexer": "ipython3",
      "version": "3.7.7-final",
      "file_extension": ".py",
      "codemirror_mode": {
        "version": 3,
        "name": "ipython"
      }
    }
  },
  "nbformat": 4,
  "nbformat_minor": 1
}